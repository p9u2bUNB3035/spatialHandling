{
 "cells": [
  {
   "cell_type": "markdown",
   "id": "c519cd25",
   "metadata": {},
   "source": [
    "# Assignment Name: Geospatial Standards and Formats"
   ]
  },
  {
   "cell_type": "markdown",
   "id": "b6fa48d2",
   "metadata": {},
   "source": [
    "## Description"
   ]
  },
  {
   "cell_type": "markdown",
   "id": "07db6dc2",
   "metadata": {},
   "source": [
    "In this assignment, we perform a series of geospatial data analyses to extract insights from datasets pertaining to Aboriginal Lands, flood extents, and roads within York and Sunbury Counties. We also investigate the area around the Fredericton International Airport, analyzing road networks in relation to a buffer zone created around the airport's location."
   ]
  },
  {
   "cell_type": "code",
   "execution_count": 65,
   "id": "78083e1b",
   "metadata": {},
   "outputs": [],
   "source": [
    "# Import packages\n",
    "import pandas as pd\n",
    "import geopandas as gpd\n",
    "from shapely.geometry import shape\n",
    "from shapely.geometry import Point\n",
    "import matplotlib.pyplot as plt\n",
    "import matplotlib.patches as mpatches"
   ]
  },
  {
   "cell_type": "markdown",
   "id": "5b4fe6dc",
   "metadata": {},
   "source": [
    "## PART A. Read and Query Data"
   ]
  },
  {
   "cell_type": "markdown",
   "id": "abc4badc",
   "metadata": {},
   "source": [
    "### 1. What is (are) the name(s) of the Aboriginal Lands (AL_TA_NB_2_143_eng) within York County?"
   ]
  },
  {
   "cell_type": "markdown",
   "id": "cae6d0a0",
   "metadata": {},
   "source": [
    "First, we read the necessary shapefiles containing the Aboriginal Lands data and the county boundaries."
   ]
  },
  {
   "cell_type": "code",
   "execution_count": 66,
   "id": "9469bdd9",
   "metadata": {},
   "outputs": [],
   "source": [
    "# Read the shapefiles containing Aboriginal Lands and County Boundaries\n",
    "gdf = gpd.read_file(\"./Assignment 1 Data/AL_TA_NB_2_143_eng.shp\")\n",
    "gdf_county = gpd.read_file(\"./Assignment 1 Data/geonb_county.shp\")"
   ]
  },
  {
   "cell_type": "markdown",
   "id": "38c25706",
   "metadata": {},
   "source": [
    "Displaying all columns of the DataFrame for a comprehensive analysis."
   ]
  },
  {
   "cell_type": "code",
   "execution_count": 67,
   "id": "5d596142",
   "metadata": {},
   "outputs": [],
   "source": [
    "# Set pandas to display all columns for a complete overview of the data\n",
    "pd.set_option('display.max_columns', None)"
   ]
  },
  {
   "cell_type": "markdown",
   "id": "fa42ea8e",
   "metadata": {},
   "source": [
    "Ensuring both datasets have the same CRS for accurate geometric operations."
   ]
  },
  {
   "cell_type": "code",
   "execution_count": 68,
   "id": "2b6218b3",
   "metadata": {},
   "outputs": [],
   "source": [
    "# Ensure the Aboriginal Lands data is in the same CRS as the County data for accurate spatial analysis\n",
    "gdf = gdf.to_crs(gdf_county.crs)"
   ]
  },
  {
   "cell_type": "markdown",
   "id": "b5cf9086",
   "metadata": {},
   "source": [
    "Filtering out the specific area of interest, which is York County."
   ]
  },
  {
   "cell_type": "code",
   "execution_count": 69,
   "id": "9a2a4b7e",
   "metadata": {},
   "outputs": [],
   "source": [
    "# Define a condition for selecting York County from the county DataFrame\n",
    "cond1 = gdf_county['ENG_NAME'] == 'York'\n",
    "york_county = gdf_county[cond1]"
   ]
  },
  {
   "cell_type": "markdown",
   "id": "ea3c7e24",
   "metadata": {},
   "source": [
    "Performing a spatial intersection to find Aboriginal Lands within York County."
   ]
  },
  {
   "cell_type": "code",
   "execution_count": 70,
   "id": "f9e9764b",
   "metadata": {},
   "outputs": [],
   "source": [
    "# Use a spatial overlay to find the intersection of Aboriginal Lands and York County\n",
    "aboriginal_lands_in_york = gpd.overlay(gdf, york_county, how='intersection')"
   ]
  },
  {
   "cell_type": "code",
   "execution_count": 71,
   "id": "5a37336a",
   "metadata": {},
   "outputs": [
    {
     "name": "stdout",
     "output_type": "stream",
     "text": [
      "0     KINGSCLEAR INDIAN RESERVE NO. 6\n",
      "1    ST. MARY'S INDIAN RESERVE NO. 24\n",
      "2         DEVON INDIAN RESERVE NO. 30\n",
      "Name: NAME1, dtype: object\n"
     ]
    }
   ],
   "source": [
    "# Print the names of Aboriginal Lands within York County\n",
    "print(aboriginal_lands_in_york['NAME1'])"
   ]
  },
  {
   "cell_type": "markdown",
   "id": "43a276b3",
   "metadata": {},
   "source": [
    "### 2. In the FloodExtent file, what is the maximum water level recorded?"
   ]
  },
  {
   "cell_type": "markdown",
   "id": "6cca905f",
   "metadata": {},
   "source": [
    "First, we load the FloodExtent shapefile data into a GeoDataFrame for analysis."
   ]
  },
  {
   "cell_type": "code",
   "execution_count": 72,
   "id": "d0dd59da",
   "metadata": {},
   "outputs": [],
   "source": [
    "# Read the FloodExtent shapefile into a GeoDataFrame\n",
    "gdf_flood = gpd.read_file(\"./Assignment 1 Data/Flood_Extent_2018_LowerSaintJohn.shp\")"
   ]
  },
  {
   "cell_type": "markdown",
   "id": "bfffec76",
   "metadata": {},
   "source": [
    "By querying the Water_Leve column, we can extract the highest recorded water level."
   ]
  },
  {
   "cell_type": "code",
   "execution_count": 73,
   "id": "1fbdd5c6",
   "metadata": {},
   "outputs": [],
   "source": [
    "# Calculate the maximum value in the 'Water_Leve' column to find the maximum water level\n",
    "max_water_level = gdf_flood['Water_Leve'].max()"
   ]
  },
  {
   "cell_type": "code",
   "execution_count": 74,
   "id": "40d2de12",
   "metadata": {},
   "outputs": [
    {
     "name": "stdout",
     "output_type": "stream",
     "text": [
      "Maximum Water Level Recorded: 10.7 meters\n"
     ]
    }
   ],
   "source": [
    "# Output the maximum water level recorded in the dataset\n",
    "print(f\"Maximum Water Level Recorded: {max_water_level} meters\")"
   ]
  },
  {
   "cell_type": "markdown",
   "id": "3cc207ee",
   "metadata": {},
   "source": [
    "### 3. In the FloodExtent file, what is the maximum water level recorded in Sunbury County (geonb_county)?"
   ]
  },
  {
   "cell_type": "markdown",
   "id": "acb429db",
   "metadata": {},
   "source": [
    "To ensure spatial compatibility, the FloodExtent data is reprojected to match the coordinate reference system of the county data."
   ]
  },
  {
   "cell_type": "code",
   "execution_count": 75,
   "id": "11dbed48",
   "metadata": {},
   "outputs": [],
   "source": [
    "# Reproject the FloodExtent data to match the CRS of the county data\n",
    "gdf_flood = gdf_flood.to_crs(gdf_county.crs)"
   ]
  },
  {
   "cell_type": "markdown",
   "id": "b0749354",
   "metadata": {},
   "source": [
    "A condition is set to filter out the Sunbury County area from the county dataset."
   ]
  },
  {
   "cell_type": "code",
   "execution_count": 76,
   "id": "533ccb6c",
   "metadata": {},
   "outputs": [],
   "source": [
    "# Create a condition to select only the rows corresponding to Sunbury County\n",
    "cond2 = gdf_county['ENG_NAME'] == 'Sunbury'\n",
    "sunbury_county = gdf_county[cond2]"
   ]
  },
  {
   "cell_type": "markdown",
   "id": "f12c4845",
   "metadata": {},
   "source": [
    "We use a spatial join to isolate flood records within the bounds of Sunbury County."
   ]
  },
  {
   "cell_type": "code",
   "execution_count": 77,
   "id": "97f1202c",
   "metadata": {},
   "outputs": [],
   "source": [
    "# Use a spatial join to find the flood extents within Sunbury County\n",
    "flood_in_sunbury = gpd.sjoin(gdf_flood, sunbury_county, how='inner', predicate='intersects')"
   ]
  },
  {
   "cell_type": "markdown",
   "id": "21c82038",
   "metadata": {},
   "source": [
    "The maximum water level within the county's area is then calculated."
   ]
  },
  {
   "cell_type": "code",
   "execution_count": 78,
   "id": "475fdd33",
   "metadata": {},
   "outputs": [],
   "source": [
    "# Calculate the maximum water level in Sunbury County\n",
    "max_water_level_sunbury = flood_in_sunbury['Water_Leve'].max()"
   ]
  },
  {
   "cell_type": "code",
   "execution_count": 79,
   "id": "2f389ddd",
   "metadata": {},
   "outputs": [
    {
     "name": "stdout",
     "output_type": "stream",
     "text": [
      "Maximum Water Level Recorded in Sunbury County: 7.4 meters\n"
     ]
    }
   ],
   "source": [
    "# Display the maximum water level found in Sunbury County\n",
    "print(f\"Maximum Water Level Recorded in Sunbury County: {max_water_level_sunbury} meters\")"
   ]
  },
  {
   "cell_type": "markdown",
   "id": "055bd003",
   "metadata": {},
   "source": [
    "### 4. What is the total Length of Roads in Sunbury and York counties (in kilometres, rounded to 2 decimals)?"
   ]
  },
  {
   "cell_type": "markdown",
   "id": "168771d3",
   "metadata": {},
   "source": [
    "We begin by loading the data for the roads in Sunbury and York counties from the provided shapefile."
   ]
  },
  {
   "cell_type": "code",
   "execution_count": 80,
   "id": "c878f50d",
   "metadata": {},
   "outputs": [],
   "source": [
    "# Load the roads data from the shapefile\n",
    "gdf_SunburyYork_roads = gpd.read_file(\"./Assignment 1 Data/geonb_roads_SunburyYork.shp\")"
   ]
  },
  {
   "cell_type": "markdown",
   "id": "32e2261b",
   "metadata": {},
   "source": [
    "A filter is created to select only the roads in the counties of interest."
   ]
  },
  {
   "cell_type": "code",
   "execution_count": 81,
   "id": "46f67a24",
   "metadata": {},
   "outputs": [],
   "source": [
    "# Define the counties of interest\n",
    "counties_of_interest = ['Sunbury', 'York']\n",
    "\n",
    "# Filter the roads data to include only the counties of interest\n",
    "cond3 = gdf_SunburyYork_roads['COUNTY'].isin(counties_of_interest)"
   ]
  },
  {
   "cell_type": "markdown",
   "id": "7fcfc4e3",
   "metadata": {},
   "source": [
    "The lengths of the roads are calculated and added as a new column in the GeoDataFrame."
   ]
  },
  {
   "cell_type": "code",
   "execution_count": 82,
   "id": "90ed9294",
   "metadata": {},
   "outputs": [],
   "source": [
    "# Use .loc to create a new DataFrame based on the condition\n",
    "gdf_selected_counties = gdf_SunburyYork_roads.loc[cond3].copy()\n",
    "\n",
    "# Calculate the length of roads in kilometers\n",
    "gdf_selected_counties['road_length_km'] = gdf_selected_counties['geometry'].length / 1000"
   ]
  },
  {
   "cell_type": "markdown",
   "id": "ab20b07d",
   "metadata": {},
   "source": [
    "The total road lengths are aggregated by county and displayed."
   ]
  },
  {
   "cell_type": "code",
   "execution_count": 83,
   "id": "e2aad36c",
   "metadata": {},
   "outputs": [],
   "source": [
    "# Aggregate the total road lengths by county\n",
    "total_length_by_county = gdf_selected_counties.groupby('COUNTY')['road_length_km'].sum()"
   ]
  },
  {
   "cell_type": "code",
   "execution_count": 84,
   "id": "5a9957e9",
   "metadata": {},
   "outputs": [
    {
     "name": "stdout",
     "output_type": "stream",
     "text": [
      "Total Length of Roads in Sunbury County: 1103.08 km\n",
      "Total Length of Roads in York County: 3045.49 km\n"
     ]
    }
   ],
   "source": [
    "# Print the total road lengths for each county, rounded to two decimal places\n",
    "for county, length in total_length_by_county.items():\n",
    "    print(f'Total Length of Roads in {county} County: {round(length, 2)} km')"
   ]
  },
  {
   "cell_type": "markdown",
   "id": "fbc941de",
   "metadata": {},
   "source": [
    "### 5. Select all the roads from GeoNB Roads_SunburyYork which have a Street name of “Waterloo Row”."
   ]
  },
  {
   "cell_type": "markdown",
   "id": "0c10bee1",
   "metadata": {},
   "source": [
    "<h3> a. Print how many roads are selected. </h3>\n",
    "\n",
    "We begin by identifying all the roads with the name \"Waterloo Row\" in the GeoNB Roads_SunburyYork dataset."
   ]
  },
  {
   "cell_type": "code",
   "execution_count": 85,
   "id": "939afba7",
   "metadata": {},
   "outputs": [],
   "source": [
    "# Filter the GeoDataFrame to select roads with the street name \"Waterloo Row\"\n",
    "waterloo_roads = gdf_SunburyYork_roads[gdf_SunburyYork_roads['STREETNAME'] == 'Waterloo Row']"
   ]
  },
  {
   "cell_type": "markdown",
   "id": "2e4c0628",
   "metadata": {},
   "source": [
    "Next, we count how many road segments are named \"Waterloo Row\"."
   ]
  },
  {
   "cell_type": "code",
   "execution_count": 86,
   "id": "609a8f01",
   "metadata": {},
   "outputs": [
    {
     "name": "stdout",
     "output_type": "stream",
     "text": [
      "Number of roads selected with Street name \"Waterloo Row\": 2\n"
     ]
    }
   ],
   "source": [
    "# Output the number of selected roads\n",
    "num_waterloo_roads = len(waterloo_roads)\n",
    "print(f'Number of roads selected with Street name \"Waterloo Row\": {num_waterloo_roads}')"
   ]
  },
  {
   "cell_type": "markdown",
   "id": "a1467bf4",
   "metadata": {},
   "source": [
    "<h3> b. Dissolve all roads with the name Waterloo Row into 1 feature. </h3>\n",
    "\n",
    "To analyze the cumulative shape of these roads, we dissolve all segments into one feature."
   ]
  },
  {
   "cell_type": "code",
   "execution_count": 87,
   "id": "c11f9e5c",
   "metadata": {},
   "outputs": [],
   "source": [
    "# Dissolve all selected road segments into a single feature\n",
    "dissolved_waterloo_roads = waterloo_roads.dissolve(by='STREETNAME')"
   ]
  },
  {
   "cell_type": "markdown",
   "id": "feb1968a",
   "metadata": {},
   "source": [
    "<h3> c. Write the dissolved roads to a GeoJSON file. </h3>\n",
    "\n",
    "Finally, we save the dissolved road feature as a GeoJSON file."
   ]
  },
  {
   "cell_type": "code",
   "execution_count": 88,
   "id": "455528c3",
   "metadata": {},
   "outputs": [
    {
     "name": "stdout",
     "output_type": "stream",
     "text": [
      "Dissolved roads written to file: dissolved_waterloo_roads.geojson\n"
     ]
    }
   ],
   "source": [
    "# Define the output filename for the GeoJSON file\n",
    "GEOJSON_output_filename = 'dissolved_waterloo_roads.geojson'\n",
    "\n",
    "# Save the dissolved roads as a GeoJSON file\n",
    "dissolved_waterloo_roads.to_file(GEOJSON_output_filename, driver='GeoJSON')\n",
    "\n",
    "# Confirm the action\n",
    "print(f\"Dissolved roads written to file: {GEOJSON_output_filename}\")"
   ]
  },
  {
   "cell_type": "markdown",
   "id": "7001107f",
   "metadata": {},
   "source": [
    "## PART B. Create Data and Buffer"
   ]
  },
  {
   "cell_type": "markdown",
   "id": "79c4c11e",
   "metadata": {},
   "source": [
    "### 6. Create a Point Feature at Fredericton International Airport: 45.87286, -66.52982 (EPSG:4326)"
   ]
  },
  {
   "cell_type": "markdown",
   "id": "85ad4659",
   "metadata": {},
   "source": [
    " we define the geographic location of the Fredericton International Airport using its latitude and longitude coordinates."
   ]
  },
  {
   "cell_type": "code",
   "execution_count": 89,
   "id": "6d8c1b36",
   "metadata": {},
   "outputs": [],
   "source": [
    "# Define the longitude and latitude coordinates for Fredericton International Airport\n",
    "airport_coords = (-66.52982, 45.87286)"
   ]
  },
  {
   "cell_type": "markdown",
   "id": "99adfb1c",
   "metadata": {},
   "source": [
    "Using the coordinates, we create a Point object and then generate a GeoDataFrame to represent the airport's location."
   ]
  },
  {
   "cell_type": "code",
   "execution_count": 90,
   "id": "137e5def",
   "metadata": {},
   "outputs": [],
   "source": [
    "# Create a Point object using the defined coordinates\n",
    "airport_point = Point(airport_coords)\n",
    "\n",
    "# Create a GeoDataFrame with the Point object and assign the appropriate CRS (EPSG:4326)\n",
    "Fred_Airport_df = gpd.GeoDataFrame(geometry=[airport_point], crs='EPSG:4326')"
   ]
  },
  {
   "cell_type": "code",
   "execution_count": 91,
   "id": "7cce1cbc",
   "metadata": {},
   "outputs": [
    {
     "name": "stdout",
     "output_type": "stream",
     "text": [
      "                     geometry\n",
      "0  POINT (-66.52982 45.87286)\n"
     ]
    }
   ],
   "source": [
    "# Display the GeoDataFrame containing the airport point feature\n",
    "print(Fred_Airport_df)"
   ]
  },
  {
   "cell_type": "markdown",
   "id": "11160ade",
   "metadata": {},
   "source": [
    "### 7. What is the coordinate system used in the GeoNB Roads_SunburyYork file?"
   ]
  },
  {
   "cell_type": "markdown",
   "id": "b9f12a47",
   "metadata": {},
   "source": [
    "In order to perform accurate spatial analysis, it is essential to understand the coordinate system in which the spatial data is represented. Here, we access the CRS information of the GeoNB Roads_SunburyYork dataset."
   ]
  },
  {
   "cell_type": "code",
   "execution_count": 92,
   "id": "999aef56",
   "metadata": {},
   "outputs": [],
   "source": [
    "# Retrieve the CRS information from the GeoDataFrame\n",
    "gdf_SunburyYork_roads_crs_info = gdf_SunburyYork_roads.crs"
   ]
  },
  {
   "cell_type": "markdown",
   "id": "7e2db5f7",
   "metadata": {},
   "source": [
    "With the CRS attribute accessed, we print out the details to understand the underlying coordinate system used for the roads dataset."
   ]
  },
  {
   "cell_type": "code",
   "execution_count": 93,
   "id": "35d12d44",
   "metadata": {},
   "outputs": [
    {
     "name": "stdout",
     "output_type": "stream",
     "text": [
      "Coordinate System (CRS) used in the GeoNB Roads_SunburyYork file: \n",
      "PROJCS[\"NAD_1983_CSRS_New_Brunswick_Stereographic\",GEOGCS[\"GCS_North_American_1983_CSRS\",DATUM[\"D_North_American_1983_CSRS\",SPHEROID[\"GRS_1980\",6378137,298.257222101]],PRIMEM[\"Greenwich\",0],UNIT[\"Degree\",0.0174532925199433]],PROJECTION[\"Oblique_Stereographic\"],PARAMETER[\"latitude_of_origin\",46.5],PARAMETER[\"central_meridian\",-66.5],PARAMETER[\"scale_factor\",0.999912],PARAMETER[\"false_easting\",2500000],PARAMETER[\"false_northing\",7500000],UNIT[\"Meter\",1],AXIS[\"Easting\",EAST],AXIS[\"Northing\",NORTH]]\n"
     ]
    }
   ],
   "source": [
    "# Print the CRS information for the GeoNB Roads_SunburyYork file\n",
    "print(f\"Coordinate System (CRS) used in the GeoNB Roads_SunburyYork file: \\n{gdf_SunburyYork_roads_crs_info}\")"
   ]
  },
  {
   "cell_type": "markdown",
   "id": "73a5f8a8",
   "metadata": {},
   "source": [
    "### 8. Project the Fredericton International Airport point (created in step 6) to match GeoNBRoads_SunburyYork."
   ]
  },
  {
   "cell_type": "markdown",
   "id": "9ed145ac",
   "metadata": {},
   "source": [
    "To ensure compatibility for spatial analysis, we need to project the Fredericton International Airport point to match the coordinate reference system of the GeoNB Roads_SunburyYork dataset."
   ]
  },
  {
   "cell_type": "code",
   "execution_count": 94,
   "id": "187317f4",
   "metadata": {},
   "outputs": [],
   "source": [
    "# Reproject the Fredericton International Airport point to match the CRS of the roads dataset\n",
    "Fred_Airport_df_projected = Fred_Airport_df.to_crs(gdf_SunburyYork_roads.crs)"
   ]
  },
  {
   "cell_type": "markdown",
   "id": "9b8ad942",
   "metadata": {},
   "source": [
    "After reprojecting, we can display the GeoDataFrame to confirm that the airport point has been correctly transformed to the new CRS."
   ]
  },
  {
   "cell_type": "code",
   "execution_count": 95,
   "id": "54b9f162",
   "metadata": {},
   "outputs": [
    {
     "name": "stdout",
     "output_type": "stream",
     "text": [
      "                          geometry\n",
      "0  POINT (2497684.823 7430295.107)\n"
     ]
    }
   ],
   "source": [
    "# Print the GeoDataFrame with the reprojected airport point to verify its CRS\n",
    "print(Fred_Airport_df_projected)"
   ]
  },
  {
   "cell_type": "markdown",
   "id": "84282c30",
   "metadata": {},
   "source": [
    "### 9. Create a 5km buffer around the Fredericton International Airport point"
   ]
  },
  {
   "cell_type": "markdown",
   "id": "ba56a9ee",
   "metadata": {},
   "source": [
    "A buffer zone is defined as an area that extends outward from the airport's location, allowing for spatial analysis of features within that area."
   ]
  },
  {
   "cell_type": "code",
   "execution_count": 96,
   "id": "e498bbb4",
   "metadata": {},
   "outputs": [],
   "source": [
    "# Define the buffer radius in meters\n",
    "buffer_radius_meters = 5000  # 5 km expressed in meters\n",
    "\n",
    "# Create the buffer around the airport point\n",
    "buffer_5km = Fred_Airport_df_projected.buffer(buffer_radius_meters)"
   ]
  },
  {
   "cell_type": "markdown",
   "id": "8e1f68e9",
   "metadata": {},
   "source": [
    "With the buffer geometry created, we encapsulate it within a GeoDataFrame for compatibility with geospatial operations."
   ]
  },
  {
   "cell_type": "code",
   "execution_count": 97,
   "id": "36c3f355",
   "metadata": {},
   "outputs": [],
   "source": [
    "# Create a GeoDataFrame from the buffer geometry with the same CRS as the airport point\n",
    "buffer_5km_df = gpd.GeoDataFrame(geometry=buffer_5km, crs=Fred_Airport_df_projected.crs)"
   ]
  },
  {
   "cell_type": "markdown",
   "id": "a8b4a0da",
   "metadata": {},
   "source": [
    "Visualization aids in the interpretation of the spatial relationship between the airport and the surrounding area."
   ]
  },
  {
   "cell_type": "code",
   "execution_count": 98,
   "id": "ab0b1092",
   "metadata": {},
   "outputs": [
    {
     "data": {
      "image/png": "[encoded data removed]",
      "text/plain": [
       "<Figure size 500x500 with 1 Axes>"
      ]
     },
     "metadata": {},
     "output_type": "display_data"
    }
   ],
   "source": [
    "# Initialize the plot\n",
    "fig, ax = plt.subplots(figsize=(5, 5))\n",
    "\n",
    "# Plot the buffer as a blue transparent layer\n",
    "buffer_5km_df.plot(ax=ax, color='blue', alpha=0.3)\n",
    "\n",
    "# Overlay the airport location as a red point\n",
    "Fred_Airport_df_projected.plot(ax=ax, color='red', marker='o', markersize=50)\n",
    "\n",
    "# Create custom legend handles for the airport location and buffer\n",
    "airport_patch = mpatches.Patch(color='red', label='Airport Location')\n",
    "buffer_patch = mpatches.Patch(color='blue', alpha=0.3, label='5km Buffer')\n",
    "\n",
    "# Add the custom legend to the plot\n",
    "ax.legend(handles=[airport_patch, buffer_patch])\n",
    "\n",
    "# Set the title and axis labels\n",
    "ax.set_title('Fredericton Airport with 5km Buffer')\n",
    "ax.set_xlabel('Longitude')\n",
    "ax.set_ylabel('Latitude')\n",
    "\n",
    "# Display the plot\n",
    "plt.show()"
   ]
  },
  {
   "cell_type": "markdown",
   "id": "2cfc03fd",
   "metadata": {},
   "source": [
    "### 10. Query to find out how many roads intersect this buffer"
   ]
  },
  {
   "cell_type": "markdown",
   "id": "a7cdfb5c",
   "metadata": {},
   "source": [
    "<h3> a. Print how many roads of each ST_TYPE and the sum total of roads. </h3>\n",
    "\n",
    "First, we identify and count the roads that intersect with the 5km buffer around the airport, categorizing them by their street type (ST_TYPE)."
   ]
  },
  {
   "cell_type": "code",
   "execution_count": 99,
   "id": "0d3f0c95",
   "metadata": {},
   "outputs": [],
   "source": [
    "# Identify roads that intersect with the buffer\n",
    "intersections = gdf_SunburyYork_roads[gdf_SunburyYork_roads.geometry.intersects(buffer_5km_df.unary_union)]\n",
    "\n",
    "# Group intersecting roads by their street type and count\n",
    "roads_count_by_type = intersections.groupby('ST_TYPE').size()"
   ]
  },
  {
   "cell_type": "markdown",
   "id": "6672d4c0",
   "metadata": {},
   "source": [
    "Print Counts by Street Type"
   ]
  },
  {
   "cell_type": "code",
   "execution_count": 100,
   "id": "a251d108",
   "metadata": {},
   "outputs": [
    {
     "name": "stdout",
     "output_type": "stream",
     "text": [
      "Number of roads by ST_TYPE:\n",
      "ST_TYPE\n",
      "Avenue        48\n",
      "Boulevard      8\n",
      "Circle         7\n",
      "Court         64\n",
      "Crescent      22\n",
      "Cross          1\n",
      "Drive         96\n",
      "Highway       71\n",
      "Lane          26\n",
      "None           8\n",
      "Park           2\n",
      "Ramp          17\n",
      "Road         112\n",
      "Street       153\n",
      "Way            5\n",
      "dtype: int64\n"
     ]
    }
   ],
   "source": [
    "# Print the number of roads for each street type\n",
    "print(\"Number of roads by ST_TYPE:\")\n",
    "print(roads_count_by_type)"
   ]
  },
  {
   "cell_type": "markdown",
   "id": "4dbef3c7",
   "metadata": {},
   "source": [
    "Calculate and Print Total Number of Roads"
   ]
  },
  {
   "cell_type": "code",
   "execution_count": 101,
   "id": "a01a2435",
   "metadata": {},
   "outputs": [
    {
     "name": "stdout",
     "output_type": "stream",
     "text": [
      "\n",
      "Total number of roads intersecting the buffer: 640\n"
     ]
    }
   ],
   "source": [
    "# Calculate the total number of intersecting roads\n",
    "total_roads = roads_count_by_type.sum()\n",
    "\n",
    "# Print the total number of intersecting roads\n",
    "print(\"\\nTotal number of roads intersecting the buffer:\", total_roads)"
   ]
  },
  {
   "cell_type": "markdown",
   "id": "fec65ee6",
   "metadata": {},
   "source": [
    "<h3> b. Plot the roads, the airport location and the buffer. </h3>\n",
    "\n",
    "We then create a visual representation of the intersecting roads, the airport location, and the buffer zone."
   ]
  },
  {
   "cell_type": "code",
   "execution_count": 102,
   "id": "24f08b8b",
   "metadata": {},
   "outputs": [
    {
     "data": {
      "image/png": "[encoded data removed]",
      "text/plain": [
       "<Figure size 700x700 with 1 Axes>"
      ]
     },
     "metadata": {},
     "output_type": "display_data"
    }
   ],
   "source": [
    "import matplotlib.pyplot as plt\n",
    "import matplotlib.patches as mpatches\n",
    "\n",
    "# Plotting the intersecting roads, buffer, and airport location\n",
    "fig, ax = plt.subplots(figsize=(7, 7))\n",
    "\n",
    "# Plot intersecting roads in red\n",
    "intersections.plot(ax=ax, color='red', label='Intersecting Roads')\n",
    "\n",
    "# Plot the 5km buffer around the airport in blue\n",
    "buffer_5km_df.plot(ax=ax, color='blue', alpha=0.3)\n",
    "\n",
    "# Plot the airport location as a green point\n",
    "Fred_Airport_df_projected.plot(ax=ax, color='green', marker='o', markersize=50)\n",
    "\n",
    "# Custom legend for the plot\n",
    "roads_patch = mpatches.Patch(color='red', label='Intersecting Roads')\n",
    "buffer_patch = mpatches.Patch(color='blue', alpha=0.3, label='5km Buffer')\n",
    "airport_patch = mpatches.Patch(color='green', label='Airport Location')\n",
    "ax.legend(handles=[roads_patch, buffer_patch, airport_patch])\n",
    "\n",
    "# Set plot title and labels\n",
    "ax.set_title('Roads Intersecting 5km Buffer Around Fredericton International Airport')\n",
    "ax.set_xlabel('Longitude')\n",
    "ax.set_ylabel('Latitude')\n",
    "\n",
    "# Display the plot\n",
    "plt.show()"
   ]
  },
  {
   "cell_type": "markdown",
   "id": "f9a0a730",
   "metadata": {},
   "source": [
    "<h3> c. Write the output to a new Shapefile (and include in your submission). </h3>\n",
    "\n",
    "Finally, we save the intersecting roads data to a shapefile for future use or analysis."
   ]
  },
  {
   "cell_type": "code",
   "execution_count": 103,
   "id": "283ec34b",
   "metadata": {},
   "outputs": [
    {
     "name": "stdout",
     "output_type": "stream",
     "text": [
      "Intersecting roads data saved to file: intersecting_roads.shp\n"
     ]
    }
   ],
   "source": [
    "# Specify the filename for the new shapefile\n",
    "output_filename = 'intersecting_roads.shp'\n",
    "\n",
    "# Save intersecting roads to the shapefile\n",
    "intersections.to_file(output_filename)\n",
    "\n",
    "# Confirm the action\n",
    "print(f\"Intersecting roads data saved to file: {output_filename}\")"
   ]
  },
  {
   "cell_type": "markdown",
   "id": "39151e0e",
   "metadata": {},
   "source": [
    " "
   ]
  },
  {
   "cell_type": "markdown",
   "id": "e5101b64",
   "metadata": {},
   "source": [
    "### REFERENCES:"
   ]
  },
  {
   "cell_type": "markdown",
   "id": "ae61b9e9",
   "metadata": {},
   "source": [
    "https://shapely.readthedocs.io/en/stable/manual.html "
   ]
  },
  {
   "cell_type": "markdown",
   "id": "f7cc9b2a",
   "metadata": {},
   "source": [
    "https://geopandas.org/en/stable/docs/reference.html"
   ]
  },
  {
   "cell_type": "markdown",
   "id": "9db2e112",
   "metadata": {},
   "source": [
    "https://pandas.pydata.org/docs/reference/groupby.html"
   ]
  },
  {
   "cell_type": "markdown",
   "id": "add53edb",
   "metadata": {},
   "source": [
    "https://pandas.pydata.org/docs/reference/frame.html"
   ]
  }
 ],
 "metadata": {
  "kernelspec": {
   "display_name": "Python 3 (ipykernel)",
   "language": "python",
   "name": "python3"
  },
  "language_info": {
   "codemirror_mode": {
    "name": "ipython",
    "version": 3
   },
   "file_extension": ".py",
   "mimetype": "text/x-python",
   "name": "python",
   "nbconvert_exporter": "python",
   "pygments_lexer": "ipython3",
   "version": "3.11.5"
  }
 },
 "nbformat": 4,
 "nbformat_minor": 5
}
